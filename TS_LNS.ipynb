{
  "nbformat": 4,
  "nbformat_minor": 0,
  "metadata": {
    "colab": {
      "name": "TS-LNS.ipynb",
      "provenance": [],
      "collapsed_sections": [],
      "include_colab_link": true
    },
    "kernelspec": {
      "name": "python3",
      "display_name": "Python 3"
    },
    "language_info": {
      "name": "python"
    }
  },
  "cells": [
    {
      "cell_type": "markdown",
      "metadata": {
        "id": "view-in-github",
        "colab_type": "text"
      },
      "source": [
        "<a href=\"https://colab.research.google.com/github/baochi0212/Optimization/blob/master/TS_LNS.ipynb\" target=\"_parent\"><img src=\"https://colab.research.google.com/assets/colab-badge.svg\" alt=\"Open In Colab\"/></a>"
      ]
    },
    {
      "cell_type": "markdown",
      "source": [
        "Import some basic libraries "
      ],
      "metadata": {
        "id": "lMNzHncZrL-S"
      }
    },
    {
      "cell_type": "code",
      "execution_count": null,
      "metadata": {
        "id": "-rO1aoUkrHF1"
      },
      "outputs": [],
      "source": [
        "import random as rd\n",
        "from copy import deepcopy\n",
        "from math import sqrt\n",
        "import numpy as np\n",
        "import time"
      ]
    },
    {
      "cell_type": "code",
      "source": [
        "import numpy as np\n",
        "import json\n",
        "import argparse"
      ],
      "metadata": {
        "id": "q7LdsrdSdhen"
      },
      "execution_count": null,
      "outputs": []
    },
    {
      "cell_type": "markdown",
      "source": [
        "Overall idea: \n",
        "1. Create a list Pop with MaxPopSize initial solutions\n",
        "- Each solution contains of M route of salesmen.\n",
        "- Updated solution created by removing some nodes from list of nodes, then re-insert it in random route by function *insert* in order to find a better solution.\n",
        "- Sorting Pop by worst cost of each solution with function *PopSorted*.\n",
        "2. From Pop, keep (size(Pop)/f) best solutions from Pop\n",
        "- f is a value that we decided. \n",
        "I.e: f = 2, MaxPopSize = 100 then keep 50 best solutions.\n",
        "3. From each remaining solutions, perform it with LNS algorithm to find even better solution\n",
        "- LNS: Perform (nofmutations) mutations by removing some random nodes from solutions then re-insert it in the solution again, if it's better update this solution as new solution.\n",
        "- Two different ways to remove nodes: \n",
        "\n",
        "If the problem is m-ATSP (general case) then we use function *RmvR*, pick a random number of nodes from alp.N to beta.N.\n",
        "\n",
        "If the problem is m-ATSP (direct case) then we use function *RmvP*, pick some seeds from N, then choose some nodes nearest to each seed and remove from solution, include seed itself, total number of remove nodes is random from alp.sqrt(N) to beta.sqrt(N), since it's more targerted.\n",
        "\n",
        "alp and beta are values we decide.\n",
        "4. We start with an initial number of mutations which we decide, then after each iteration, while the size of Pop decrease, we also increase the number of mutations.\n",
        "5. When the size of Pop go below MinPopSize, return the best solution from remaning solutions in Pop."
      ],
      "metadata": {
        "id": "-sVx7zkwrSXo"
      }
    },
    {
      "cell_type": "code",
      "source": [
        "#return the worst cost of a solution\n",
        "def worstCost(cr,c):                  \n",
        "    wc = -1\n",
        "    for path in cr:\n",
        "        cost = 0\n",
        "        for i in range(len(path)-1):\n",
        "            cost += c[path[i]][path[i+1]]\n",
        "        if cost > wc:\n",
        "            wc = cost\n",
        "    return wc\n",
        "\n",
        "#the cost of a route \n",
        "def cost(route, c):\n",
        "    cost = 0\n",
        "    for i in range(len(route)-1):\n",
        "        cost += c[route[i]][route[i+1]]\n",
        "    return cost"
      ],
      "metadata": {
        "id": "RMhKM3YwrOny"
      },
      "execution_count": null,
      "outputs": []
    },
    {
      "cell_type": "markdown",
      "source": [
        "Algorithm 1: Remove a node from route then re-insert again."
      ],
      "metadata": {
        "id": "biOMSULArXuP"
      }
    },
    {
      "cell_type": "code",
      "source": [
        "#algorithm 1: NodeInsert\n",
        "def rmvNodeRandom(nodes):             \n",
        "    rmvPos = rd.randint(0, len(nodes)-1)\n",
        "    rmvNode = nodes.pop(rmvPos)\n",
        "    return rmvNode\n",
        "\n",
        "def addNode(route, i, n_j):             \n",
        "    r_ = deepcopy(route)\n",
        "    r_.insert(i+1, n_j)\n",
        "    return r_\n",
        "\n",
        "def insert(sol, nodes, c):    #change the original solution\n",
        "    while len(nodes) != 0:\n",
        "        minwcost = 1e20   \n",
        "        n_j = rmvNodeRandom(nodes)                   \n",
        "        for r in sol:                                  \n",
        "            length = len(r)-1\n",
        "            for i in range(length):\n",
        "                rP = addNode(r, i, n_j)\n",
        "                cost_rP = cost(rP, c)\n",
        "                if cost_rP < minwcost:\n",
        "                    bestr, bestrP = deepcopy(r), deepcopy(rP)\n",
        "                    minwcost = cost_rP\n",
        "        sol.remove(bestr)\n",
        "        sol.append(bestrP)\n",
        "    return sol\n",
        "#end algorithm 1"
      ],
      "metadata": {
        "id": "Naa9SxxErVRx"
      },
      "execution_count": null,
      "outputs": []
    },
    {
      "cell_type": "markdown",
      "source": [
        "Algorithm 2: Remove k random nodes from a solution.\n",
        "- RmvR: Use for general case\n",
        "- RmvP: Use for direct case"
      ],
      "metadata": {
        "id": "2ITAlSJdrcgn"
      }
    },
    {
      "cell_type": "code",
      "source": [
        "#algorithm 2: NodeRemoval - 2 strategy (m-ATSP, m-TSP)\n",
        "def pickRandom(N, nofnodes):\n",
        "    return rd.sample(N, nofnodes)\n",
        "\n",
        "def rmvNode(cur, n):\n",
        "    for i in cur:\n",
        "        if n in i:\n",
        "            i.remove(n)\n",
        "            break\n",
        "    return cur\n",
        "\n",
        "def nearestNode(s, nofnodesP, c):\n",
        "    s_ = []\n",
        "    for i in range(1, len(c[s])):\n",
        "        s_.append([c[s][i], i])\n",
        "    sorted(s_)\n",
        "    sn = []\n",
        "    for i in range(nofnodesP):\n",
        "        sn.append(s_[i][1])\n",
        "    return sn    \n",
        "\n",
        "#first method use for m-ATSP\n",
        "def RmvR(sol, nofnodes, N):       #change the original solution\n",
        "    free = pickRandom(N, nofnodes) \n",
        "    for n in free:\n",
        "        rmvNode(sol,n)\n",
        "    return sol, free\n",
        "#end method\n",
        "\n",
        "#second method use for m-TSP\n",
        "def RmvP(sol, nofnodes, nofseeds, N, c):  #change the original solution \n",
        "    nofnodesP = int(nofnodes/nofseeds)\n",
        "    seeds = pickRandom(N, nofseeds) \n",
        "    free = []\n",
        "\n",
        "    for s in seeds:\n",
        "        nn = nearestNode(s, nofnodesP, c) #include s itself\n",
        "        for n in nn:\n",
        "            rmvNode(sol, n)\n",
        "            free.append(n)\n",
        "\n",
        "    return sol, free\n",
        "#end method\n",
        "\n",
        "#end algorithm 2"
      ],
      "metadata": {
        "id": "iTgCU31vraW1"
      },
      "execution_count": null,
      "outputs": []
    },
    {
      "cell_type": "markdown",
      "source": [
        "Algorithm 3: Large neighbor search - mutating some random nodes using algo 2 then re-insert it with algo 1.\n"
      ],
      "metadata": {
        "id": "n5qSbzyHrhlX"
      }
    },
    {
      "cell_type": "code",
      "source": [
        "#algorithm 3: LNS\n",
        "def fitness(sol, c):\n",
        "    return 1/worstCost(sol, c)\n",
        "\n",
        "def LNS(sol, nofmutations, rmvopt, alp, beta, N, c, n):\n",
        "    if rmvopt == \"rand\":\n",
        "        lower, upper = int(alp*n), int(beta*n)\n",
        "    elif rmvopt == \"proximity\":\n",
        "        lower, upper = int(alp*sqrt(n)), int(beta*sqrt(n))\n",
        "    \n",
        "    wc = worstCost(sol, c)\n",
        "\n",
        "    for i in range(nofmutations):\n",
        "        rmv = rd.randint(lower, upper)\n",
        "        if rmvopt == \"rand\":\n",
        "            tmp, free = RmvR(deepcopy(sol), rmv, N)\n",
        "        elif rmvopt == \"proximity\":\n",
        "            seeds = rd.randint(1, int(upper/10))\n",
        "            tmp, free = RmvP(deepcopy(sol), rmv, seeds, N, c)\n",
        "    \n",
        "        new = insert(tmp, free, c)\n",
        "        newwc = worstCost(new, c)\n",
        "        if newwc < wc:\n",
        "            wc = newwc\n",
        "            sol = deepcopy(new)\n",
        "    return sol\n",
        "#end function"
      ],
      "metadata": {
        "id": "lVfbUJMLrfW-"
      },
      "execution_count": null,
      "outputs": []
    },
    {
      "cell_type": "markdown",
      "source": [
        "Algorithm 4: Main algorithm \n",
        "- Build MaxPopSize initial soutions, then select nofsol/f fittest solutions to keep with f is a given value.\n",
        "- Each solution in remaining solutions goes through algo 3 to find even better result.\n",
        "- When only MinPopSize solutions left, pick the fittest solution. "
      ],
      "metadata": {
        "id": "eWPrk7wirnJf"
      }
    },
    {
      "cell_type": "code",
      "source": [
        "#algorithm 4: TS-LNS - Main algorithm\n",
        "def initLNSMutations():           #simple version\n",
        "    return 200\n",
        "\n",
        "def adjustLNSMutations(mut):      #simple version\n",
        "    return mut + 200\n",
        "\n",
        "def getFittest(Pop, nofsol_kept): \n",
        "    return Pop[:nofsol_kept]\n",
        "\n",
        "def PopSorted(Pop, c):\n",
        "    worstlist = []\n",
        "    for i in range(len(Pop)):\n",
        "        worstlist.append([worstCost(Pop[i], c), Pop[i]])\n",
        "    worstlist.sort()\n",
        "    for i in range(len(worstlist)):\n",
        "        worstlist[i] = worstlist[i][1]\n",
        "    return worstlist\n",
        "\n",
        "def TS_LNS(N, M, rmvopt, node0, MaxPopSize, MinPopSize, f, alp, beta, c, k):\n",
        "    nullsol = []\n",
        "    Pop = list()\n",
        "    \n",
        "    for i in range(M):\n",
        "        nullsol += [[node0, node0]]\n",
        "    start = time.time()\n",
        "    for i in range(MaxPopSize):\n",
        "        n = deepcopy(N)\n",
        "        rd.shuffle(n)\n",
        "        nsol = deepcopy(nullsol)\n",
        "        Pop.append(insert(nsol, n, c))\n",
        "\n",
        "    Pop = PopSorted(Pop, c)               \n",
        "    mut = initLNSMutations()    \n",
        "    end = time.time()\n",
        "    print(end-start)\n",
        "    while len(Pop) > MinPopSize:\n",
        "        Pop = getFittest(Pop, int(len(Pop)/f))         \n",
        "        \n",
        "        #############\n",
        "        for sol in Pop:\n",
        "            sol = LNS(sol, mut, rmvopt, alp, beta, N, c, k)\n",
        "\n",
        "        PopSorted(Pop, c)             \n",
        "        mut = adjustLNSMutations(mut)              \n",
        "\n",
        "    return getFittest(Pop, 1)[0]\n",
        "#end function"
      ],
      "metadata": {
        "id": "8F_Qz5Farjjo"
      },
      "execution_count": null,
      "outputs": []
    },
    {
      "cell_type": "markdown",
      "source": [
        "Random datasets generator\n"
      ],
      "metadata": {
        "id": "7ExYitbyrsLX"
      }
    },
    {
      "cell_type": "code",
      "source": [
        "def gena(N0, K0):\n",
        "    d = [0]\n",
        "    for i in range(N0):\n",
        "        d.append(rd.randint(1, 100))\n",
        "    \n",
        "    t = []\n",
        "    for i in range(N0+1):\n",
        "        row = []\n",
        "        for j in range(N0+1):\n",
        "            if i == j:\n",
        "                row.append(0)\n",
        "            else:\n",
        "                row.append(rd.randint(1,100))\n",
        "        t.append(row)\n",
        "    c = np.array(t) + np.array(d)\n",
        "    c = c.tolist()\n",
        "    \n",
        "    for i in range(len(c)):\n",
        "        c[i][i] = 0\n",
        "\n",
        "    return t, d, c\n",
        "def gens(N0, K0):\n",
        "  c = [[0 for i in range(N0+1)] for j in range(N0+1)]\n",
        "  for i in range(N0+1):\n",
        "    for j in range(N0+1):\n",
        "      if i != j:\n",
        "        point = rd.randint(1, 100)\n",
        "        c[i][j], c[j][i] = point, point\n",
        "  return c\n",
        "    "
      ],
      "metadata": {
        "id": "Q7ZJnVTqrp8R"
      },
      "execution_count": null,
      "outputs": []
    },
    {
      "cell_type": "markdown",
      "source": [
        "Datasets lib"
      ],
      "metadata": {
        "id": "ZunAFxqWrwln"
      }
    },
    {
      "cell_type": "code",
      "source": [
        "def datasets(filename):\n",
        "    with open(filename) as f:\n",
        "        N, M = [int(i) for i in f.readline().split()]\n",
        "        d = [0] + [int(i) for i in f.readline().split()]\n",
        "        t = []\n",
        "        for i in range(N+1):\n",
        "            arr = [int(i) for i in f.readline().split()]\n",
        "            t.append(arr)\n",
        "        c = np.array(t) + np.array(d)\n",
        "        c = c.tolist()\n",
        "        for i in range(len(c)):\n",
        "            c[i][i] = 0\n",
        "        return N, M, d, t, c"
      ],
      "metadata": {
        "id": "6evmMRzTruuB"
      },
      "execution_count": null,
      "outputs": []
    },
    {
      "cell_type": "code",
      "source": [
        "if __name__ == \"__main__\":\n",
        "  case = input(\"mATSP / mTSP (1/2): \")\n",
        "  if case == \"1\":\n",
        "    n, M = int(input(\"Number of customers: \")), int(input(\"Number of salesmen: \"))\n",
        "    t, d, c = gena(n, M)\n",
        "    rmvopt = \"rand\"\n",
        "    alp = .2\n",
        "    beta = .4\n",
        "    # print(\"Time table for going from point to point: \")\n",
        "    # print(np.array(t))\n",
        "    # print(\"Time to fix something for customers: \")\n",
        "    # print(np.array(d))\n",
        "  else:\n",
        "    # filename = input(\"Choose a datasets file: \")\n",
        "    # N, M, d, t, c = datasets(filename)\n",
        "    n, M = int(input(\"Number of customers: \")), int(input(\"Number of salesmen: \"))\n",
        "    c = gens(n, M)\n",
        "    rmvopt = \"proximity\"\n",
        "    alp = 1\n",
        "    beta = 4\n",
        "    # print(np.array(c))"
      ],
      "metadata": {
        "colab": {
          "base_uri": "https://localhost:8080/"
        },
        "id": "nAGXECaKrzGv",
        "outputId": "e874d1ae-f77b-40ff-e7c6-fca870023c2c"
      },
      "execution_count": null,
      "outputs": [
        {
          "name": "stdout",
          "output_type": "stream",
          "text": [
            "mATSP / mTSP (1/2): 1\n",
            "Number of customers: 30\n",
            "Number of salesmen: 3\n"
          ]
        }
      ]
    },
    {
      "cell_type": "code",
      "source": [
        "  N = []\n",
        "  for i in range(n):\n",
        "    N.append(i+1)\n",
        "  node0 = 0\n",
        "  MaxPopSize = 100\n",
        "  MinPopSize = 6    \n",
        "  f = 2\n",
        "  sol = TS_LNS(N, M, rmvopt, node0, MaxPopSize, MinPopSize, f, alp, beta, c, n)\n",
        "  for i in sol:\n",
        "    print(i)\n",
        "  print(worstCost(sol, c))"
      ],
      "metadata": {
        "colab": {
          "base_uri": "https://localhost:8080/"
        },
        "id": "RtJPDvnWr252",
        "outputId": "439c16ed-f74f-4a67-db84-22631e8500ec"
      },
      "execution_count": null,
      "outputs": [
        {
          "output_type": "stream",
          "name": "stdout",
          "text": [
            "0.7543118000030518\n",
            "[0, 6, 24, 25, 9, 1, 30, 26, 5, 12, 0]\n",
            "[0, 8, 17, 4, 21, 20, 7, 19, 11, 16, 15, 22, 13, 0]\n",
            "[0, 18, 23, 28, 2, 3, 14, 10, 29, 27, 0]\n",
            "733\n"
          ]
        }
      ]
    },
    {
      "cell_type": "code",
      "source": [
        "# parser = argparse.ArgumentParser(\"INPUT\")\n",
        "# parser.add_argument('--input', type=str, default='sample0.json')\n",
        "# if __name__ == '__main__':\n",
        "# \targs = parser.parse_args()\n",
        "# \tname = args.input\n",
        "with open('sample1.json', 'r') as f:\n",
        "\tinput = json.load(f)\n",
        "n, M, d, t = input['N'], input['k'], input['d'], input['t']\n",
        "N = []\n",
        "for i in range(n):\n",
        "    N.append(i+1)\n",
        "c = np.array(t) + np.array(d)\n",
        "c = c.tolist()\n",
        "node0 = 0\n",
        "MaxPopSize = 100\n",
        "MinPopSize = 6\n",
        "f = 2\n",
        "alp = .1\n",
        "beta = .3\n",
        "rmvopt = \"rand\"\n",
        "\n",
        "start = time.time()\n",
        "sol = TS_LNS(N, M, rmvopt, node0, MaxPopSize, MinPopSize, f, alp, beta, c, n)\n",
        "end = time.time()\n",
        "print(sol)\n",
        "print(worstCost(sol, c))\n",
        "print(end-start)"
      ],
      "metadata": {
        "id": "LByDhnIer_xX",
        "colab": {
          "base_uri": "https://localhost:8080/"
        },
        "outputId": "21d215e1-43da-4ccf-e685-30507a5de127"
      },
      "execution_count": null,
      "outputs": [
        {
          "output_type": "stream",
          "name": "stdout",
          "text": [
            "8.44395899772644\n",
            "[[0, 5, 82, 27, 59, 30, 41, 40, 11, 64, 88, 42, 0], [0, 22, 13, 65, 38, 71, 2, 47, 3, 87, 24, 0], [0, 97, 75, 43, 93, 57, 26, 83, 55, 20, 46, 0], [0, 85, 63, 48, 62, 18, 94, 51, 12, 29, 66, 56, 67, 0], [0, 32, 80, 91, 76, 33, 37, 15, 89, 49, 44, 34, 0], [0, 28, 23, 31, 86, 54, 95, 21, 1, 19, 50, 74, 0], [0, 92, 36, 25, 7, 53, 61, 39, 58, 99, 81, 8, 0], [0, 73, 90, 77, 69, 10, 35, 16, 70, 4, 14, 68, 96, 0], [0, 60, 84, 79, 52, 45, 17, 98, 6, 78, 72, 9, 0]]\n",
            "35\n",
            "832.7651796340942\n"
          ]
        }
      ]
    },
    {
      "cell_type": "code",
      "source": [
        ""
      ],
      "metadata": {
        "id": "JlfOiPMDd-od"
      },
      "execution_count": null,
      "outputs": []
    }
  ]
}